{
 "cells": [
  {
   "cell_type": "code",
   "execution_count": null,
   "metadata": {},
   "outputs": [],
   "source": [
    "#We will try to predict the species of iris flowers using K-Nearest Neighbours algorithm."
   ]
  },
  {
   "cell_type": "code",
   "execution_count": 1,
   "metadata": {},
   "outputs": [
    {
     "name": "stdout",
     "output_type": "stream",
     "text": [
      "   sepal_length_cm  sepal_width_cm  petal_length_cm  petal_width_cm      species\n",
      "0              5.1             3.5              1.4             0.2  Iris-setosa\n",
      "1              4.9             NaN              1.4             0.2  Iris-setosa\n",
      "2              4.7             3.2              1.3             NaN  Iris-setosa\n",
      "3              4.6             3.1              1.5             0.2  Iris-setosa\n",
      "4              5.0             3.6              1.4             0.2  Iris-setosa\n"
     ]
    }
   ],
   "source": [
    "import pandas as pd\n",
    "import numpy as np\n",
    "columns = ['sepal_length_cm', 'sepal_width_cm', 'petal_length_cm', 'petal_width_cm', 'species']\n",
    "iris = pd.read_csv('iris_missing.csv',delimiter='\t', na_values='  ', names=columns)\n",
    "pd.options.display.max_columns = 99\n",
    "pd.options.display.width = 150\n",
    "print(iris.head())"
   ]
  },
  {
   "cell_type": "code",
   "execution_count": 2,
   "metadata": {},
   "outputs": [
    {
     "name": "stdout",
     "output_type": "stream",
     "text": [
      "        sepal_length_cm  sepal_width_cm  petal_length_cm  petal_width_cm      species\n",
      "count        150.000000      148.000000       141.000000      142.000000          150\n",
      "unique              NaN             NaN              NaN             NaN            3\n",
      "top                 NaN             NaN              NaN             NaN  Iris-setosa\n",
      "freq                NaN             NaN              NaN             NaN           50\n",
      "mean           5.843333        3.055405         3.754610        1.197887          NaN\n",
      "std            0.828066        0.436324         1.763052        0.770140          NaN\n",
      "min            4.300000        2.000000         1.000000        0.100000          NaN\n",
      "25%            5.100000        2.800000         1.600000        0.300000          NaN\n",
      "50%            5.800000        3.000000         4.400000        1.300000          NaN\n",
      "75%            6.400000        3.300000         5.100000        1.800000          NaN\n",
      "max            7.900000        4.400000         6.900000        2.500000          NaN\n"
     ]
    }
   ],
   "source": [
    "print(iris.describe(include='all'))"
   ]
  },
  {
   "cell_type": "code",
   "execution_count": 3,
   "metadata": {},
   "outputs": [
    {
     "name": "stdout",
     "output_type": "stream",
     "text": [
      "   sepal_length_cm  sepal_width_cm  petal_length_cm  petal_width_cm  species\n",
      "0              5.1             3.5              1.4             0.2        1\n",
      "1              4.9             NaN              1.4             0.2        1\n",
      "2              4.7             3.2              1.3             NaN        1\n",
      "3              4.6             3.1              1.5             0.2        1\n",
      "4              5.0             3.6              1.4             0.2        1\n"
     ]
    }
   ],
   "source": [
    "iris.species.replace(['Iris-setosa', 'Iris-versicolor', 'Iris-virginica'], [1, 2, 3], inplace=True)\n",
    "print(iris.head())"
   ]
  },
  {
   "cell_type": "code",
   "execution_count": 4,
   "metadata": {},
   "outputs": [
    {
     "name": "stdout",
     "output_type": "stream",
     "text": [
      "sepal_length_cm    0\n",
      "sepal_width_cm     2\n",
      "petal_length_cm    9\n",
      "petal_width_cm     8\n",
      "species            0\n",
      "dtype: int64\n"
     ]
    }
   ],
   "source": [
    "print(iris.isnull().sum())"
   ]
  },
  {
   "cell_type": "code",
   "execution_count": 5,
   "metadata": {},
   "outputs": [
    {
     "name": "stdout",
     "output_type": "stream",
     "text": [
      "sepal_length_cm    0\n",
      "sepal_width_cm     0\n",
      "petal_length_cm    0\n",
      "petal_width_cm     0\n",
      "species            0\n",
      "dtype: int64\n"
     ]
    }
   ],
   "source": [
    "#Replacing the null values with the median.\n",
    "x = iris.isnull().sum()\n",
    "df_missingvals = iris[x[(x>0)].index]\n",
    "iris[df_missingvals.columns] = df_missingvals.fillna(df_missingvals.median())\n",
    "print(iris.isnull().sum())"
   ]
  },
  {
   "cell_type": "code",
   "execution_count": 8,
   "metadata": {},
   "outputs": [
    {
     "data": {
      "image/png": "[encoded data removed]",
      "text/plain": [
       "<matplotlib.figure.Figure at 0x7bc3350>"
      ]
     },
     "metadata": {
      "needs_background": "light"
     },
     "output_type": "display_data"
    }
   ],
   "source": [
    "import matplotlib.pyplot as plt\n",
    "fig = plt.figure(figsize=(10,8))\n",
    "ax1 = fig.add_subplot(4,2,1)\n",
    "ax2 = fig.add_subplot(4,2,2)\n",
    "ax3 = fig.add_subplot(4,2,3)\n",
    "ax4 = fig.add_subplot(4,2,4)\n",
    "ax3.boxplot(iris['petal_length_cm'])\n",
    "ax2.boxplot(iris['sepal_width_cm'])\n",
    "ax1.boxplot(iris['sepal_length_cm'])\n",
    "ax4.boxplot(iris['petal_width_cm'])\n",
    "plt.show()"
   ]
  },
  {
   "cell_type": "code",
   "execution_count": 9,
   "metadata": {},
   "outputs": [
    {
     "name": "stdout",
     "output_type": "stream",
     "text": [
      "3.0    27\n",
      "2.8    14\n",
      "3.2    13\n",
      "3.4    12\n",
      "3.1    12\n",
      "2.9     9\n",
      "2.7     9\n",
      "2.5     8\n",
      "3.5     6\n",
      "3.8     6\n",
      "3.3     6\n",
      "2.6     5\n",
      "2.3     4\n",
      "3.6     3\n",
      "2.4     3\n",
      "2.2     3\n",
      "3.7     3\n",
      "3.9     2\n",
      "4.2     1\n",
      "4.1     1\n",
      "4.4     1\n",
      "2.0     1\n",
      "4.0     1\n",
      "Name: sepal_width_cm, dtype: int64\n"
     ]
    }
   ],
   "source": [
    "# we can see some outliers in sepal_width_cm\n",
    "print(iris['sepal_width_cm'].value_counts())"
   ]
  },
  {
   "cell_type": "code",
   "execution_count": 10,
   "metadata": {},
   "outputs": [
    {
     "name": "stdout",
     "output_type": "stream",
     "text": [
      "sepal_length_cm    0.685694\n",
      "sepal_width_cm     0.187864\n",
      "petal_length_cm    2.944251\n",
      "petal_width_cm     0.561801\n",
      "dtype: float64\n"
     ]
    }
   ],
   "source": [
    "#also sepal_width_cm is having very little variance, let's check on that.\n",
    "#getting variance of each column.\n",
    "variance = iris.drop('species', axis=1).var()\n",
    "print(variance)"
   ]
  },
  {
   "cell_type": "code",
   "execution_count": 11,
   "metadata": {},
   "outputs": [],
   "source": [
    "#That is true, so we'll drop the column.\n",
    "iris = iris.drop('sepal_width_cm', axis=1)"
   ]
  },
  {
   "cell_type": "code",
   "execution_count": 12,
   "metadata": {},
   "outputs": [
    {
     "data": {
      "image/png": "[encoded data removed]",
      "text/plain": [
       "<matplotlib.figure.Figure at 0x7b3f330>"
      ]
     },
     "metadata": {
      "needs_background": "light"
     },
     "output_type": "display_data"
    }
   ],
   "source": [
    "#Checking collinearity within the columns.\n",
    "corrmat = iris.corr()\n",
    "import seaborn as sns\n",
    "import matplotlib.pyplot as plt\n",
    "fig,axes = plt.subplots()\n",
    "sns.heatmap(corrmat.abs(), annot=True)\n",
    "plt.show()"
   ]
  },
  {
   "cell_type": "code",
   "execution_count": 13,
   "metadata": {},
   "outputs": [],
   "source": [
    "#'petal_width_cm' and 'petal_length_cm' are having high correlation between them.\n",
    "#so removing 'petal_width_cm' because of lower variance.\n",
    "iris = iris.drop('petal_width_cm', axis=1)"
   ]
  },
  {
   "cell_type": "code",
   "execution_count": 14,
   "metadata": {},
   "outputs": [],
   "source": [
    "#Preparing the training and the test dataset.\n",
    "np.random.seed(1)\n",
    "shuffled_index = np.random.permutation(iris.index)\n",
    "df = iris.reindex(shuffled_index)\n",
    "train_size = int(0.75*df.shape[0])\n",
    "train_df = df.iloc[:train_size].copy()\n",
    "test_df = df.iloc[train_size:].copy()\n",
    "train_cols = df.columns.drop('species')"
   ]
  },
  {
   "cell_type": "code",
   "execution_count": 15,
   "metadata": {},
   "outputs": [],
   "source": [
    "#Function to calculate the Euclidean distance.\n",
    "import math\n",
    "def get_distance(row1, row2):\n",
    "    sum = 0\n",
    "    for i in range(len(row1)):\n",
    "        sum += (row1[i]-row2[i])**2\n",
    "    euclidean = math.sqrt(sum)\n",
    "    return euclidean"
   ]
  },
  {
   "cell_type": "code",
   "execution_count": 16,
   "metadata": {},
   "outputs": [],
   "source": [
    "#Function to predict the species of a flower based on its 8 nearest neighbours. \n",
    "def predict(row):\n",
    "    similarity = []\n",
    "    temp_df = train_df.copy()\n",
    "    for i in range(len(temp_df)):\n",
    "        dist = get_distance(row, temp_df.iloc[i][list(train_cols)])\n",
    "        similarity.append(dist)\n",
    "    temp_df['distance'] = similarity\n",
    "    temp_df = temp_df.sort_values('distance')\n",
    "    neighbours = temp_df.iloc[0:8]\n",
    "    #pred_list will contain the probabilities of a flower belonging to each of the 3 classes given by 1,2 and3.\n",
    "    pred_list = [1,2,3]\n",
    "    pred_list[0] = len(neighbours[neighbours['species']==1])                #For setosa\n",
    "    pred_list[1] = len(neighbours[neighbours['species']==2])                #For versicolor\n",
    "    pred_list[2] = len(neighbours[neighbours['species']==3])                #For verginica\n",
    "    #We will consider the index for which the probability is maximum.\n",
    "    pred = pred_list.index(max(pred_list)) + 1\n",
    "    return pred"
   ]
  },
  {
   "cell_type": "code",
   "execution_count": 17,
   "metadata": {},
   "outputs": [],
   "source": [
    "#Applying the KNN model on the test dataset.\n",
    "predictions = []   \n",
    "for i in range(len(test_df)):\n",
    "    predictions.append(predict(test_df.iloc[i][list(train_cols)]))"
   ]
  },
  {
   "cell_type": "code",
   "execution_count": null,
   "metadata": {},
   "outputs": [],
   "source": [
    "#We will use the roc_auc_score for calculating the accuracy of the classifier model.\n",
    "#Since, the target column consists of more than one species class, we cannot apply roc_auc_score directly on the predicted values.\n",
    "#So, for each species, we will consider the rows belonging to that species as in positive class and the rows\n",
    "#belonging to any other species as in negative class.\n",
    "#Then, we'll calculate roc_auc_score for each row.\n",
    "#This way we can make out whether the species of each flower is correctly predicted or not.\n",
    "#Finally, we will have 3 scores for each row and we will get the mean of the scores for each row."
   ]
  },
  {
   "cell_type": "code",
   "execution_count": 18,
   "metadata": {},
   "outputs": [
    {
     "name": "stdout",
     "output_type": "stream",
     "text": [
      "0.940674603175\n"
     ]
    }
   ],
   "source": [
    "scores = []\n",
    "classes = test_df['species'].unique()\n",
    "from sklearn.metrics import roc_auc_score\n",
    "for y in classes:\n",
    "        modified_actual = test_df['species'].apply(lambda x: 1 if y==x else 0)\n",
    "        modified_prediction = pd.Series(predictions).apply(lambda x: 1 if y==x else 0)\n",
    "        score = roc_auc_score(modified_actual, modified_prediction)\n",
    "        scores.append(score)\n",
    "print(pd.Series(scores).mean())"
   ]
  },
  {
   "cell_type": "code",
   "execution_count": null,
   "metadata": {},
   "outputs": [],
   "source": [
    "#The roc_auc_score is equal to 94% means that the model is pretty good in classifying the species' as they are. \n",
    "#There will be very less number of false negatives and false positives."
   ]
  }
 ],
 "metadata": {
  "kernelspec": {
   "display_name": "Python 3",
   "language": "python",
   "name": "python3"
  },
  "language_info": {
   "codemirror_mode": {
    "name": "ipython",
    "version": 3
   },
   "file_extension": ".py",
   "mimetype": "text/x-python",
   "name": "python",
   "nbconvert_exporter": "python",
   "pygments_lexer": "ipython3",
   "version": "3.6.2"
  }
 },
 "nbformat": 4,
 "nbformat_minor": 2
}
